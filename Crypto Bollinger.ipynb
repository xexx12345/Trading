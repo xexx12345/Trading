{
 "cells": [
  {
   "cell_type": "code",
   "execution_count": 1,
   "metadata": {},
   "outputs": [
    {
     "name": "stderr",
     "output_type": "stream",
     "text": [
      "C:\\Users\\xexx\\Anaconda3\\lib\\site-packages\\statsmodels\\compat\\pandas.py:56: FutureWarning: The pandas.core.datetools module is deprecated and will be removed in a future version. Please use the pandas.tseries module instead.\n",
      "  from pandas.core import datetools\n"
     ]
    }
   ],
   "source": [
    "#%% Importing modules and data\n",
    "import smtplib\n",
    "import pandas as pd\n",
    "import numpy as np\n",
    "import datetime as dt\n",
    "# import pandas.stats.moments as st\n",
    "import statsmodels.api as sm # import statsmodels \n",
    "from pandas import ExcelWriter\n",
    "import matplotlib.pyplot as pyplot\n",
    "import scipy.stats as st\n",
    "import os\n",
    "import quandl as qd\n",
    "from collections import defaultdict\n",
    "import seaborn as sns\n",
    "# Import the Time Series library\n",
    "import statsmodels.tsa.stattools as ts\n",
    "%matplotlib inline\n",
    "\n",
    "def save_xls(list_dfs, xls_path,sheet_names):\n",
    "    writer = ExcelWriter(xls_path)\n",
    "    for n, df in enumerate(list_dfs):\n",
    "        df.to_excel(writer, sheet_names[n])\n",
    "    writer.save()\n",
    "    return\n"
   ]
  },
  {
   "cell_type": "code",
   "execution_count": 2,
   "metadata": {
    "collapsed": true
   },
   "outputs": [],
   "source": [
    "# Importing data from Quandl\n",
    "\n",
    "btc = qd.get(\"BITFINEX/BTCUSD\", authtoken=\"-ZxrLoLy3vKgLtLraaMn\")\n",
    "btc.columns = ['High','Low','Mid','Close','Bid','Ask','Volume']\n",
    "\n",
    "eth = qd.get(\"BITFINEX/ETHUSD\", authtoken=\"-ZxrLoLy3vKgLtLraaMn\")\n",
    "eth.columns = ['High','Low','Mid','Close','Bid','Ask','Volume']\n",
    "\n",
    "ltc = qd.get(\"BITFINEX/LTCUSD\", authtoken=\"-ZxrLoLy3vKgLtLraaMn\")\n",
    "ltc.columns = ['High','Low','Mid','Close','Bid','Ask','Volume']\n",
    "\n",
    "neo = qd.get(\"BITFINEX/NEOUSD\", authtoken=\"-ZxrLoLy3vKgLtLraaMn\")\n",
    "neo.columns = ['High','Low','Mid','Close','Bid','Ask','Volume']\n",
    "\n",
    "etc = qd.get(\"BITFINEX/ETCUSD\", authtoken=\"-ZxrLoLy3vKgLtLraaMn\")\n",
    "etc.columns = ['High','Low','Mid','Close','Bid','Ask','Volume']\n",
    "\n",
    "rrt = qd.get(\"BITFINEX/RRTUSD\", authtoken=\"-ZxrLoLy3vKgLtLraaMn\")\n",
    "rrt.columns = ['High','Low','Mid','Close','Bid','Ask','Volume']\n",
    "\n",
    "xmr = qd.get(\"BITFINEX/XMRUSD\", authtoken=\"-ZxrLoLy3vKgLtLraaMn\")\n",
    "xmr.columns = ['High','Low','Mid','Close','Bid','Ask','Volume']\n",
    "\n",
    "zec = qd.get(\"BITFINEX/ZECUSD\", authtoken=\"-ZxrLoLy3vKgLtLraaMn\")\n",
    "zec.columns = ['High','Low','Mid','Close','Bid','Ask','Volume']\n",
    "\n",
    "omg = qd.get(\"BITFINEX/OMGUSD\", authtoken=\"-ZxrLoLy3vKgLtLraaMn\")\n",
    "omg.columns = ['High','Low','Mid','Close','Bid','Ask','Volume']"
   ]
  },
  {
   "cell_type": "code",
   "execution_count": 3,
   "metadata": {},
   "outputs": [
    {
     "data": {
      "text/html": [
       "<div>\n",
       "<style>\n",
       "    .dataframe thead tr:only-child th {\n",
       "        text-align: right;\n",
       "    }\n",
       "\n",
       "    .dataframe thead th {\n",
       "        text-align: left;\n",
       "    }\n",
       "\n",
       "    .dataframe tbody tr th {\n",
       "        vertical-align: top;\n",
       "    }\n",
       "</style>\n",
       "<table border=\"1\" class=\"dataframe\">\n",
       "  <thead>\n",
       "    <tr style=\"text-align: right;\">\n",
       "      <th></th>\n",
       "      <th>High</th>\n",
       "      <th>Low</th>\n",
       "      <th>Mid</th>\n",
       "      <th>Close</th>\n",
       "      <th>Bid</th>\n",
       "      <th>Ask</th>\n",
       "      <th>Volume</th>\n",
       "    </tr>\n",
       "    <tr>\n",
       "      <th>Date</th>\n",
       "      <th></th>\n",
       "      <th></th>\n",
       "      <th></th>\n",
       "      <th></th>\n",
       "      <th></th>\n",
       "      <th></th>\n",
       "      <th></th>\n",
       "    </tr>\n",
       "  </thead>\n",
       "  <tbody>\n",
       "    <tr>\n",
       "      <th>2017-07-14</th>\n",
       "      <td>0.85000</td>\n",
       "      <td>0.41100</td>\n",
       "      <td>0.561585</td>\n",
       "      <td>0.57339</td>\n",
       "      <td>0.55003</td>\n",
       "      <td>0.57314</td>\n",
       "      <td>3.002220e+05</td>\n",
       "    </tr>\n",
       "    <tr>\n",
       "      <th>2017-07-15</th>\n",
       "      <td>0.69820</td>\n",
       "      <td>0.42010</td>\n",
       "      <td>0.482205</td>\n",
       "      <td>0.46170</td>\n",
       "      <td>0.46312</td>\n",
       "      <td>0.50129</td>\n",
       "      <td>5.656600e+05</td>\n",
       "    </tr>\n",
       "    <tr>\n",
       "      <th>2017-07-16</th>\n",
       "      <td>0.52090</td>\n",
       "      <td>0.31500</td>\n",
       "      <td>0.393100</td>\n",
       "      <td>0.40389</td>\n",
       "      <td>0.38250</td>\n",
       "      <td>0.40370</td>\n",
       "      <td>1.114086e+06</td>\n",
       "    </tr>\n",
       "    <tr>\n",
       "      <th>2017-07-17</th>\n",
       "      <td>0.58800</td>\n",
       "      <td>0.37010</td>\n",
       "      <td>0.585160</td>\n",
       "      <td>0.58800</td>\n",
       "      <td>0.58232</td>\n",
       "      <td>0.58800</td>\n",
       "      <td>1.021973e+06</td>\n",
       "    </tr>\n",
       "    <tr>\n",
       "      <th>2017-07-18</th>\n",
       "      <td>0.89970</td>\n",
       "      <td>0.54630</td>\n",
       "      <td>0.718705</td>\n",
       "      <td>0.72680</td>\n",
       "      <td>0.70541</td>\n",
       "      <td>0.73200</td>\n",
       "      <td>1.921621e+06</td>\n",
       "    </tr>\n",
       "    <tr>\n",
       "      <th>2017-07-19</th>\n",
       "      <td>0.81210</td>\n",
       "      <td>0.55990</td>\n",
       "      <td>0.591695</td>\n",
       "      <td>0.57815</td>\n",
       "      <td>0.57830</td>\n",
       "      <td>0.60509</td>\n",
       "      <td>9.633149e+05</td>\n",
       "    </tr>\n",
       "    <tr>\n",
       "      <th>2017-07-20</th>\n",
       "      <td>0.73659</td>\n",
       "      <td>0.56000</td>\n",
       "      <td>0.682185</td>\n",
       "      <td>0.68879</td>\n",
       "      <td>0.67748</td>\n",
       "      <td>0.68689</td>\n",
       "      <td>8.523141e+05</td>\n",
       "    </tr>\n",
       "    <tr>\n",
       "      <th>2017-07-21</th>\n",
       "      <td>0.78510</td>\n",
       "      <td>0.62987</td>\n",
       "      <td>0.751310</td>\n",
       "      <td>0.74979</td>\n",
       "      <td>0.74906</td>\n",
       "      <td>0.75356</td>\n",
       "      <td>4.665221e+05</td>\n",
       "    </tr>\n",
       "    <tr>\n",
       "      <th>2017-07-22</th>\n",
       "      <td>0.85000</td>\n",
       "      <td>0.73490</td>\n",
       "      <td>0.826735</td>\n",
       "      <td>0.84000</td>\n",
       "      <td>0.81347</td>\n",
       "      <td>0.84000</td>\n",
       "      <td>1.032214e+06</td>\n",
       "    </tr>\n",
       "    <tr>\n",
       "      <th>2017-07-23</th>\n",
       "      <td>1.61890</td>\n",
       "      <td>0.83990</td>\n",
       "      <td>1.564400</td>\n",
       "      <td>1.54000</td>\n",
       "      <td>1.54020</td>\n",
       "      <td>1.58860</td>\n",
       "      <td>2.818714e+06</td>\n",
       "    </tr>\n",
       "  </tbody>\n",
       "</table>\n",
       "</div>"
      ],
      "text/plain": [
       "               High      Low       Mid    Close      Bid      Ask  \\\n",
       "Date                                                                \n",
       "2017-07-14  0.85000  0.41100  0.561585  0.57339  0.55003  0.57314   \n",
       "2017-07-15  0.69820  0.42010  0.482205  0.46170  0.46312  0.50129   \n",
       "2017-07-16  0.52090  0.31500  0.393100  0.40389  0.38250  0.40370   \n",
       "2017-07-17  0.58800  0.37010  0.585160  0.58800  0.58232  0.58800   \n",
       "2017-07-18  0.89970  0.54630  0.718705  0.72680  0.70541  0.73200   \n",
       "2017-07-19  0.81210  0.55990  0.591695  0.57815  0.57830  0.60509   \n",
       "2017-07-20  0.73659  0.56000  0.682185  0.68879  0.67748  0.68689   \n",
       "2017-07-21  0.78510  0.62987  0.751310  0.74979  0.74906  0.75356   \n",
       "2017-07-22  0.85000  0.73490  0.826735  0.84000  0.81347  0.84000   \n",
       "2017-07-23  1.61890  0.83990  1.564400  1.54000  1.54020  1.58860   \n",
       "\n",
       "                  Volume  \n",
       "Date                      \n",
       "2017-07-14  3.002220e+05  \n",
       "2017-07-15  5.656600e+05  \n",
       "2017-07-16  1.114086e+06  \n",
       "2017-07-17  1.021973e+06  \n",
       "2017-07-18  1.921621e+06  \n",
       "2017-07-19  9.633149e+05  \n",
       "2017-07-20  8.523141e+05  \n",
       "2017-07-21  4.665221e+05  \n",
       "2017-07-22  1.032214e+06  \n",
       "2017-07-23  2.818714e+06  "
      ]
     },
     "execution_count": 3,
     "metadata": {},
     "output_type": "execute_result"
    }
   ],
   "source": [
    "omg.head(10)"
   ]
  },
  {
   "cell_type": "code",
   "execution_count": 4,
   "metadata": {
    "collapsed": true
   },
   "outputs": [],
   "source": [
    "window = 21\n",
    "no_of_std = 2\n",
    "\n",
    "rolling_mean = omg['Close'].rolling(window).mean()\n",
    "rolling_std = omg['Close'].rolling(no_of_std).std()\n",
    "\n",
    "omg['Rolling Mean'] = rolling_mean\n",
    "omg['Bollinger High'] = rolling_mean + (rolling_std * no_of_std)\n",
    "omg['Bollinger Low'] = rolling_mean - (rolling_std * no_of_std)"
   ]
  },
  {
   "cell_type": "code",
   "execution_count": 5,
   "metadata": {},
   "outputs": [
    {
     "data": {
      "text/plain": [
       "<matplotlib.axes._subplots.AxesSubplot at 0x2f289b0fe48>"
      ]
     },
     "execution_count": 5,
     "metadata": {},
     "output_type": "execute_result"
    },
    {
     "data": {
      "image/png": "[encoded data removed]",
      "text/plain": [
       "<matplotlib.figure.Figure at 0x2f284442048>"
      ]
     },
     "metadata": {},
     "output_type": "display_data"
    }
   ],
   "source": [
    "omg[['Close','Bollinger High','Bollinger Low']].plot()"
   ]
  },
  {
   "cell_type": "code",
   "execution_count": 6,
   "metadata": {},
   "outputs": [
    {
     "name": "stderr",
     "output_type": "stream",
     "text": [
      "C:\\Users\\xexx\\Anaconda3\\lib\\site-packages\\pandas\\core\\indexing.py:179: SettingWithCopyWarning: \n",
      "A value is trying to be set on a copy of a slice from a DataFrame\n",
      "\n",
      "See the caveats in the documentation: http://pandas.pydata.org/pandas-docs/stable/indexing.html#indexing-view-versus-copy\n",
      "  self._setitem_with_indexer(indexer, value)\n"
     ]
    },
    {
     "data": {
      "text/plain": [
       "<matplotlib.axes._subplots.AxesSubplot at 0x2f289b33e10>"
      ]
     },
     "execution_count": 6,
     "metadata": {},
     "output_type": "execute_result"
    },
    {
     "data": {
      "image/png": "[encoded data removed]",
      "text/plain": [
       "<matplotlib.figure.Figure at 0x2f289f91b70>"
      ]
     },
     "metadata": {},
     "output_type": "display_data"
    }
   ],
   "source": [
    "omg['Position'] = None\n",
    "\n",
    "for row in range(len(omg)):\n",
    "    if (omg['Close'].iloc[row] > omg['Bollinger High'].iloc[row]) and (omg['Close'].iloc[row-1] < omg['Bollinger High'].iloc[row-1]):\n",
    "        omg['Position'].iloc[row] = -1\n",
    "\n",
    "    if (omg['Close'].iloc[row] < omg['Bollinger Low'].iloc[row]) and (omg['Close'].iloc[row-1] > omg['Bollinger Low'].iloc[row-1]):\n",
    "        omg['Position'].iloc[row] = 1  \n",
    "\n",
    "#Forward fill our position column to replace the \"None\" values with the correct long/short positions to represent the \"holding\" of our position\n",
    "#forward through time\n",
    "omg['Position'].fillna(method='ffill',inplace=True)\n",
    "\n",
    "#Calculate the daily market return and multiply that by the position to determine strategy returns\n",
    "omg['Market Return'] = np.log(omg['Close'] / omg['Close'].shift(1))\n",
    "omg['Strategy Return'] = omg['Market Return'] * omg['Position']\n",
    "\n",
    "#Plot the strategy returns\n",
    "omg['Strategy Return'].cumsum().plot()\n"
   ]
  },
  {
   "cell_type": "code",
   "execution_count": 7,
   "metadata": {},
   "outputs": [
    {
     "data": {
      "text/plain": [
       "High                    0.698200\n",
       "Low                     0.420100\n",
       "Mid                     0.482205\n",
       "Close                   0.461700\n",
       "Bid                     0.463120\n",
       "Ask                     0.501290\n",
       "Volume             565660.025531\n",
       "Rolling Mean                 NaN\n",
       "Bollinger High               NaN\n",
       "Bollinger Low                NaN\n",
       "Position                     NaN\n",
       "Market Return          -0.216651\n",
       "Strategy Return              NaN\n",
       "Name: 2017-07-15 00:00:00, dtype: float64"
      ]
     },
     "execution_count": 7,
     "metadata": {},
     "output_type": "execute_result"
    }
   ],
   "source": [
    "omg.iloc[1]"
   ]
  },
  {
   "cell_type": "code",
   "execution_count": 8,
   "metadata": {
    "collapsed": true
   },
   "outputs": [],
   "source": [
    "def bollinger_strat(df,window,std):\n",
    "    rolling_mean = df['Close'].rolling(window).mean()\n",
    "    rolling_std = df['Close'].rolling(window).std()\n",
    " \n",
    "    df['Bollinger High'] = rolling_mean + (rolling_std * no_of_std)\n",
    "    df['Bollinger Low'] = rolling_mean - (rolling_std * no_of_std)\n",
    " \n",
    "    df['Short'] = None\n",
    "    df['Long'] = None\n",
    "    df['Position'] = None\n",
    " \n",
    "    for row in range(len(df)):\n",
    " \n",
    "        if (df['Close'].iloc[row] > df['Bollinger High'].iloc[row]) and (df['Close'].iloc[row-1] < df['Bollinger High'].iloc[row-1]):\n",
    "            df['Position'].iloc[row] = -1\n",
    " \n",
    "        if (df['Close'].iloc[row] < df['Bollinger Low'].iloc[row]) and (df['Close'].iloc[row-1] > df['Bollinger Low'].iloc[row-1]):\n",
    "            df['Position'].iloc[row] = 1\n",
    " \n",
    "    df['Position'].fillna(method='ffill',inplace=True)\n",
    " \n",
    "    df['Market Return'] = np.log(df['Close'] / df['Close'].shift(1))\n",
    "    df['Strategy Return'] = df['Market Return'] * df['Position']\n",
    " \n",
    "    df['Strategy Return'].cumsum().plot()"
   ]
  },
  {
   "cell_type": "code",
   "execution_count": 9,
   "metadata": {},
   "outputs": [
    {
     "name": "stderr",
     "output_type": "stream",
     "text": [
      "C:\\Users\\xexx\\Anaconda3\\lib\\site-packages\\pandas\\core\\indexing.py:179: SettingWithCopyWarning: \n",
      "A value is trying to be set on a copy of a slice from a DataFrame\n",
      "\n",
      "See the caveats in the documentation: http://pandas.pydata.org/pandas-docs/stable/indexing.html#indexing-view-versus-copy\n",
      "  self._setitem_with_indexer(indexer, value)\n"
     ]
    },
    {
     "data": {
      "image/png": "[encoded data removed]",
      "text/plain": [
       "<matplotlib.figure.Figure at 0x2f289fa37f0>"
      ]
     },
     "metadata": {},
     "output_type": "display_data"
    }
   ],
   "source": [
    "bollinger_strat(zec,20,2)"
   ]
  },
  {
   "cell_type": "code",
   "execution_count": 10,
   "metadata": {},
   "outputs": [
    {
     "data": {
      "text/plain": [
       "'#Set up \"daily look back period\" and \"number of standard deviation\" vectors\\n#For example the first one creates a vector of 20 evenly spaced integer values ranging from 10 to 100\\n#The second creates a vector of 10 evenly spaced floating point numbers from 1 to 3\\nwindows = np.linspace(10,100,20,dtype=int)\\nstds = np.linspace(1,3,10)\\n \\n#And iterate through them both, running the strategy function each time\\nfor window in windows:\\n    for std in stds:\\n        bollinger_strat(zec,window,std)'"
      ]
     },
     "execution_count": 10,
     "metadata": {},
     "output_type": "execute_result"
    }
   ],
   "source": [
    "'''#Set up \"daily look back period\" and \"number of standard deviation\" vectors\n",
    "#For example the first one creates a vector of 20 evenly spaced integer values ranging from 10 to 100\n",
    "#The second creates a vector of 10 evenly spaced floating point numbers from 1 to 3\n",
    "windows = np.linspace(10,100,20,dtype=int)\n",
    "stds = np.linspace(1,3,10)\n",
    " \n",
    "#And iterate through them both, running the strategy function each time\n",
    "for window in windows:\n",
    "    for std in stds:\n",
    "        bollinger_strat(zec,window,std)'''"
   ]
  },
  {
   "cell_type": "code",
   "execution_count": 11,
   "metadata": {
    "collapsed": true
   },
   "outputs": [],
   "source": [
    "def crypto_ma_opt(crypto, fast = 1):\n",
    "    \n",
    "    df = crypto.copy()\n",
    "    \n",
    "    df['fast'] = df[['Close']].rolling(fast).mean().shift(1)    \n",
    "    df['Position'] = None\n",
    "    \n",
    "    for row in range(len(df)):\n",
    "        if (df['Close'] >= df['fast']):\n",
    "            df['Position'].iloc[row] = 1\n",
    "\n",
    "        if (df['Close'] <= df['fast']):\n",
    "            df['Position'].iloc[row] = -1\n",
    "    \n",
    "    df['Position'].fillna(method='ffill',inplace=True)\n",
    "    df['Market Return'] = np.log(df['Close'] / df['Close'].shift(1))\n",
    "    df['Strategy Return'] = df['Market Return'] * df['Position']\n",
    "    df['Strategy Return'].cumsum().plot()\n"
   ]
  },
  {
   "cell_type": "code",
   "execution_count": 12,
   "metadata": {},
   "outputs": [
    {
     "ename": "ValueError",
     "evalue": "The truth value of a Series is ambiguous. Use a.empty, a.bool(), a.item(), a.any() or a.all().",
     "output_type": "error",
     "traceback": [
      "\u001b[1;31m---------------------------------------------------------------------------\u001b[0m",
      "\u001b[1;31mValueError\u001b[0m                                Traceback (most recent call last)",
      "\u001b[1;32m<ipython-input-12-f8b6c2ac9d63>\u001b[0m in \u001b[0;36m<module>\u001b[1;34m()\u001b[0m\n\u001b[1;32m----> 1\u001b[1;33m \u001b[0mcrypto_ma_opt\u001b[0m\u001b[1;33m(\u001b[0m\u001b[0mbtc\u001b[0m\u001b[1;33m,\u001b[0m\u001b[0mfast\u001b[0m \u001b[1;33m=\u001b[0m \u001b[1;36m10\u001b[0m\u001b[1;33m)\u001b[0m\u001b[1;33m\u001b[0m\u001b[0m\n\u001b[0m",
      "\u001b[1;32m<ipython-input-11-453359d6f960>\u001b[0m in \u001b[0;36mcrypto_ma_opt\u001b[1;34m(crypto, fast)\u001b[0m\n\u001b[0;32m      7\u001b[0m \u001b[1;33m\u001b[0m\u001b[0m\n\u001b[0;32m      8\u001b[0m     \u001b[1;32mfor\u001b[0m \u001b[0mrow\u001b[0m \u001b[1;32min\u001b[0m \u001b[0mrange\u001b[0m\u001b[1;33m(\u001b[0m\u001b[0mlen\u001b[0m\u001b[1;33m(\u001b[0m\u001b[0mdf\u001b[0m\u001b[1;33m)\u001b[0m\u001b[1;33m)\u001b[0m\u001b[1;33m:\u001b[0m\u001b[1;33m\u001b[0m\u001b[0m\n\u001b[1;32m----> 9\u001b[1;33m         \u001b[1;32mif\u001b[0m \u001b[1;33m(\u001b[0m\u001b[0mdf\u001b[0m\u001b[1;33m[\u001b[0m\u001b[1;34m'Close'\u001b[0m\u001b[1;33m]\u001b[0m \u001b[1;33m>=\u001b[0m \u001b[0mdf\u001b[0m\u001b[1;33m[\u001b[0m\u001b[1;34m'fast'\u001b[0m\u001b[1;33m]\u001b[0m\u001b[1;33m)\u001b[0m\u001b[1;33m:\u001b[0m\u001b[1;33m\u001b[0m\u001b[0m\n\u001b[0m\u001b[0;32m     10\u001b[0m             \u001b[0mdf\u001b[0m\u001b[1;33m[\u001b[0m\u001b[1;34m'Position'\u001b[0m\u001b[1;33m]\u001b[0m\u001b[1;33m.\u001b[0m\u001b[0miloc\u001b[0m\u001b[1;33m[\u001b[0m\u001b[0mrow\u001b[0m\u001b[1;33m]\u001b[0m \u001b[1;33m=\u001b[0m \u001b[1;36m1\u001b[0m\u001b[1;33m\u001b[0m\u001b[0m\n\u001b[0;32m     11\u001b[0m \u001b[1;33m\u001b[0m\u001b[0m\n",
      "\u001b[1;32mC:\\Users\\xexx\\Anaconda3\\lib\\site-packages\\pandas\\core\\generic.py\u001b[0m in \u001b[0;36m__nonzero__\u001b[1;34m(self)\u001b[0m\n\u001b[0;32m    951\u001b[0m         raise ValueError(\"The truth value of a {0} is ambiguous. \"\n\u001b[0;32m    952\u001b[0m                          \u001b[1;34m\"Use a.empty, a.bool(), a.item(), a.any() or a.all().\"\u001b[0m\u001b[1;33m\u001b[0m\u001b[0m\n\u001b[1;32m--> 953\u001b[1;33m                          .format(self.__class__.__name__))\n\u001b[0m\u001b[0;32m    954\u001b[0m \u001b[1;33m\u001b[0m\u001b[0m\n\u001b[0;32m    955\u001b[0m     \u001b[0m__bool__\u001b[0m \u001b[1;33m=\u001b[0m \u001b[0m__nonzero__\u001b[0m\u001b[1;33m\u001b[0m\u001b[0m\n",
      "\u001b[1;31mValueError\u001b[0m: The truth value of a Series is ambiguous. Use a.empty, a.bool(), a.item(), a.any() or a.all()."
     ]
    }
   ],
   "source": [
    "crypto_ma_opt(btc,fast = 10)"
   ]
  },
  {
   "cell_type": "code",
   "execution_count": null,
   "metadata": {
    "collapsed": true
   },
   "outputs": [],
   "source": [
    "btc['fast'] = btc[['Close']].rolling(10).mean().shift(1)  "
   ]
  },
  {
   "cell_type": "code",
   "execution_count": null,
   "metadata": {},
   "outputs": [],
   "source": [
    "btc['Close'] > btc['fast']"
   ]
  },
  {
   "cell_type": "code",
   "execution_count": null,
   "metadata": {
    "collapsed": true
   },
   "outputs": [],
   "source": []
  }
 ],
 "metadata": {
  "kernelspec": {
   "display_name": "Python 3",
   "language": "python",
   "name": "python3"
  },
  "language_info": {
   "codemirror_mode": {
    "name": "ipython",
    "version": 3
   },
   "file_extension": ".py",
   "mimetype": "text/x-python",
   "name": "python",
   "nbconvert_exporter": "python",
   "pygments_lexer": "ipython3",
   "version": "3.6.1"
  }
 },
 "nbformat": 4,
 "nbformat_minor": 2
}
